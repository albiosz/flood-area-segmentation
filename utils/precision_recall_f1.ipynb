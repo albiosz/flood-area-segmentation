{
 "cells": [
  {
   "cell_type": "markdown",
   "metadata": {},
   "source": [
    "# Precision and Recall (Sensitivity)\n",
    "\n",
    "https://medium.com/@nghihuynh_37300/understanding-evaluation-metrics-in-medical-image-segmentation-d289a373a3f\n",
    "\n",
    "Basieren (auch wie Accuracy, F1 score und IoU) auf der Berechnung einer Konfusionsmatrix. Diese Matrix enthält die Anzahl der True Positives (TP), False Positives (FP), True Negatives (TN) und False Negatives (FN). Die Wertebereiche aller vorgestellten Metriken liegen zwischen 0 (schlecht) und 1 (optimal).\n",
    "\n",
    "<img src=\"https://glassboxmedicine.com/wp-content/uploads/2019/02/confusion-matrix.png?w=431&h=243\" alt=\"drawing\" width=\"400\"/>\n",
    "\n",
    "In unserem Fall soll der überschwemmte Bereich segmentiert werden, wobei 1 für überschemmt/Wasser und 0 für Hintergrund steht:\n",
    "\n",
    "TP: Wasser-Pixel korrekt als Wasser erkannt\n",
    "FP: Hintergrund fälschlich als Wasser erkannt\n",
    "FN: Wasser fälschlich als Hintergrund erkannt\n",
    "TN: Hintergrund korrekt als Hintergrund erkann\n",
    "\n",
    "## Precision\n",
    "\n",
    "Precision ist der Anteil der korrekt als positiv erkannten Ergebnisse an allen als positiv vorhergesagten: \n",
    "$$\n",
    "\\text{Precision} = \\frac{TP}{TP + FP}\n",
    "$$\n",
    "\n",
    "## Recall\n",
    "\n",
    "Recall (auch Sensitivität) ist der Anteil der korrekt erkannten positiven Fälle an allen tatsächlich positiven Fällen:\n",
    "$$\n",
    "\\text{Recall} = \\frac{TP}{TP + FN}\n",
    "$$"
   ]
  },
  {
   "cell_type": "code",
   "execution_count": 1,
   "metadata": {},
   "outputs": [
    {
     "name": "stderr",
     "output_type": "stream",
     "text": [
      "2025-06-09 19:50:30.978121: E external/local_xla/xla/stream_executor/cuda/cuda_fft.cc:467] Unable to register cuFFT factory: Attempting to register factory for plugin cuFFT when one has already been registered\n",
      "WARNING: All log messages before absl::InitializeLog() is called are written to STDERR\n",
      "E0000 00:00:1749498630.997131 1743300 cuda_dnn.cc:8579] Unable to register cuDNN factory: Attempting to register factory for plugin cuDNN when one has already been registered\n",
      "E0000 00:00:1749498631.002974 1743300 cuda_blas.cc:1407] Unable to register cuBLAS factory: Attempting to register factory for plugin cuBLAS when one has already been registered\n",
      "W0000 00:00:1749498631.017410 1743300 computation_placer.cc:177] computation placer already registered. Please check linkage and avoid linking the same target more than once.\n",
      "W0000 00:00:1749498631.017430 1743300 computation_placer.cc:177] computation placer already registered. Please check linkage and avoid linking the same target more than once.\n",
      "W0000 00:00:1749498631.017431 1743300 computation_placer.cc:177] computation placer already registered. Please check linkage and avoid linking the same target more than once.\n",
      "W0000 00:00:1749498631.017433 1743300 computation_placer.cc:177] computation placer already registered. Please check linkage and avoid linking the same target more than once.\n",
      "2025-06-09 19:50:31.022300: I tensorflow/core/platform/cpu_feature_guard.cc:210] This TensorFlow binary is optimized to use available CPU instructions in performance-critical operations.\n",
      "To enable the following instructions: AVX2 FMA, in other operations, rebuild TensorFlow with the appropriate compiler flags.\n"
     ]
    }
   ],
   "source": [
    "import tensorflow as tf\n",
    "from tensorflow.keras import backend as K\n",
    "import keras\n",
    "\n",
    "@keras.saving.register_keras_serializable()\n",
    "def precision_metric(y_true, y_pred):\n",
    "    y_pred = tf.cast(y_pred > 0.5, tf.float32)\n",
    "    y_true = tf.cast(y_true, tf.float32)\n",
    "\n",
    "    tp = K.sum(y_true * y_pred)\n",
    "    fp = K.sum(y_pred) - tp\n",
    "\n",
    "    precision = tp / (tp + fp + K.epsilon())\n",
    "    return precision\n",
    "\n",
    "@keras.saving.register_keras_serializable()\n",
    "def recall_metric(y_true, y_pred):\n",
    "    y_pred = tf.cast(y_pred > 0.5, tf.float32)\n",
    "    y_true = tf.cast(y_true, tf.float32)\n",
    "\n",
    "    tp = K.sum(y_true * y_pred)\n",
    "    fn = K.sum(y_true) - tp\n",
    "\n",
    "    recall = tp / (tp + fn + K.epsilon())\n",
    "    return recall\n"
   ]
  },
  {
   "cell_type": "markdown",
   "metadata": {},
   "source": [
    "`flatten`: sklearn.metrics akzeptiert nur 1D-Vektoren und keine 2D-Matrizen wie Segmentierungsmasken. `.flatten()` wandelt das Bild in eine Liste von Pixelwerten um."
   ]
  },
  {
   "cell_type": "markdown",
   "metadata": {},
   "source": [
    "# Dice Coefficient (F1-Score)\n",
    "\n",
    "https://medium.com/@nghihuynh_37300/understanding-evaluation-metrics-in-medical-image-segmentation-d289a373a3f\n",
    "\n",
    "Der F1-Score (auch Dice-Koeffizient) eignet sich für die Bewertung von Computer Vision und somit auch für die Segmentierung. \n",
    "\n",
    "Er misst die Überlappung zwischen Vorhersage und Ground Truth, basiert auf Precision und Recall und bestraft falsche Positive, was bei unausgeglichenen Datensätzen wichtig ist.\n",
    "\n",
    "<img src=\"https://miro.medium.com/v2/resize:fit:1400/format:webp/1*tSqwQ9tvLmeO9raDqg3i-w.png\" alt=\"drawing\" width=\"400\"/>\n",
    "\n",
    "\n",
    "Im Vergleich zur IoU ist der Dice-Koeffizient weniger streng bei Unter- oder Übersegmentierung.\n",
    "\n",
    "Formel des F1-Score:\n",
    "\n",
    "$$\n",
    "\\text{F1} = \\frac{2TP}{2TP + FP + FN} = 2 * \\frac{Precision * Recall }{Precision + Recall}\n",
    "$$"
   ]
  },
  {
   "cell_type": "code",
   "execution_count": 2,
   "metadata": {},
   "outputs": [],
   "source": [
    "import tensorflow as tf\n",
    "from tensorflow.keras import backend as K\n",
    "import keras\n",
    "\n",
    "@keras.saving.register_keras_serializable()\n",
    "def f1_metric(y_true, y_pred):\n",
    "    precision = precision_metric(y_true, y_pred)\n",
    "    recall = recall_metric(y_true, y_pred)\n",
    "    return 2 * (precision * recall) / (precision + recall + K.epsilon())\n"
   ]
  }
 ],
 "metadata": {
  "kernelspec": {
   "display_name": ".venv",
   "language": "python",
   "name": "python3"
  },
  "language_info": {
   "codemirror_mode": {
    "name": "ipython",
    "version": 3
   },
   "file_extension": ".py",
   "mimetype": "text/x-python",
   "name": "python",
   "nbconvert_exporter": "python",
   "pygments_lexer": "ipython3",
   "version": "3.11.0rc1"
  }
 },
 "nbformat": 4,
 "nbformat_minor": 2
}
