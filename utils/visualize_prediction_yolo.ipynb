{
 "cells": [
  {
   "cell_type": "markdown",
   "id": "41a77a64",
   "metadata": {},
   "source": [
    "# Visualisierung von Vorhersagen mit Bildern aus Österreich"
   ]
  },
  {
   "cell_type": "code",
   "execution_count": null,
   "id": "c0c48b21",
   "metadata": {},
   "outputs": [],
   "source": [
    "import numpy as np\n",
    "import matplotlib.pyplot as plt\n",
    "\n",
    "def visualize_prediction_yolo(image_resized, pred_binary, img_file=None, alpha=0.5):\n",
    "    image_resized = image_resized.astype(np.uint8)\n",
    "    red_mask = np.zeros_like(image_resized)\n",
    "    red_mask[..., 0] = 255  # red\n",
    "\n",
    "    # creates 3-channel mask from pred_binary\n",
    "    mask_3ch = np.stack([pred_binary]*3, axis=-1)\n",
    "\n",
    "    blended = np.where(mask_3ch, \n",
    "                       (1 - alpha) * image_resized + alpha * red_mask,\n",
    "                       image_resized).astype(np.uint8)\n",
    "\n",
    "    plt.figure(figsize=(12,4))\n",
    "    if img_file:\n",
    "        plt.suptitle(f\"Prediction: {img_file}\")\n",
    "    plt.subplot(1,3,1)\n",
    "    plt.title(\"Original Image\")\n",
    "    plt.imshow(image_resized)\n",
    "    plt.axis('off')\n",
    "\n",
    "    plt.subplot(1,3,2)\n",
    "    plt.title(\"Predicted Mask\")\n",
    "    plt.imshow(pred_binary, cmap='gray')\n",
    "    plt.axis('off')\n",
    "\n",
    "    plt.subplot(1,3,3)\n",
    "    plt.title(\"Overlay\")\n",
    "    plt.imshow(blended)\n",
    "    plt.axis('off')\n",
    "\n",
    "    plt.tight_layout()\n",
    "    plt.show()"
   ]
  }
 ],
 "metadata": {
  "kernelspec": {
   "display_name": ".venv",
   "language": "python",
   "name": "python3"
  },
  "language_info": {
   "name": "python",
   "version": "3.11.0"
  }
 },
 "nbformat": 4,
 "nbformat_minor": 5
}
