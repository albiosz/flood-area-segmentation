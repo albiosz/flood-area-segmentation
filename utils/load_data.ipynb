{
 "cells": [
  {
   "cell_type": "markdown",
   "metadata": {},
   "source": [
    "# Laden der Daten und Inspizieren der Daten (kopiert)"
   ]
  },
  {
   "cell_type": "code",
   "execution_count": 2,
   "metadata": {},
   "outputs": [
    {
     "name": "stdout",
     "output_type": "stream",
     "text": [
      "No of images:  290\n",
      "No of masks:  290\n"
     ]
    }
   ],
   "source": [
    "import os\n",
    "import kagglehub\n",
    "from pathlib import Path\n",
    "\n",
    "path = kagglehub.dataset_download(\"faizalkarim/flood-area-segmentation\")\n",
    "\n",
    "# access data\n",
    "base_dir = Path(path)\n",
    "print('No of images: ', len(os.listdir(base_dir / 'Image')))\n",
    "print('No of masks: ', len(os.listdir(base_dir / 'Mask')))"
   ]
  },
  {
   "cell_type": "code",
   "execution_count": 3,
   "metadata": {},
   "outputs": [],
   "source": [
    "from PIL import Image\n",
    "import numpy as np"
   ]
  },
  {
   "cell_type": "code",
   "execution_count": 4,
   "metadata": {},
   "outputs": [
    {
     "name": "stdout",
     "output_type": "stream",
     "text": [
      "(290, 224, 224, 3)\n",
      "Loaded 290 images and masks.\n"
     ]
    }
   ],
   "source": [
    "IMG_HEIGHT, IMG_WIDTH = 224, 224\n",
    "BATCH_SIZE = 32\n",
    "\n",
    "\n",
    "image_dir = base_dir / 'Image'\n",
    "mask_dir = base_dir / 'Mask'\n",
    "\n",
    "def load_images_and_masks():\n",
    "    images, masks = [], []\n",
    "    image_files = sorted(os.listdir(image_dir))\n",
    "    mask_files = sorted(os.listdir(mask_dir))\n",
    "\n",
    "    for img_file, mask_file in zip(image_files, mask_files):\n",
    "        img_path = os.path.join(image_dir, img_file)\n",
    "        mask_path = os.path.join(mask_dir, mask_file)\n",
    "\n",
    "        # Load and resize\n",
    "        img = Image.open(img_path).resize((IMG_WIDTH, IMG_HEIGHT)).convert(\"RGB\")\n",
    "        mask = Image.open(mask_path).resize((IMG_WIDTH, IMG_HEIGHT)).convert(\"L\")  # Grayscale\n",
    "\n",
    "        # Normalize image and mask\n",
    "        images.append(np.array(img) / 255.0)\n",
    "        masks.append(np.array(mask) / 255.0)\n",
    "\n",
    "    return np.array(images), np.expand_dims(np.array(masks), axis=-1)\n",
    "\n",
    "# Load dataset\n",
    "images, masks = load_images_and_masks()\n",
    "print(images.shape)\n",
    "print(f\"Loaded {len(images)} images and masks.\")"
   ]
  }
 ],
 "metadata": {
  "kernelspec": {
   "display_name": ".venv",
   "language": "python",
   "name": "python3"
  },
  "language_info": {
   "codemirror_mode": {
    "name": "ipython",
    "version": 3
   },
   "file_extension": ".py",
   "mimetype": "text/x-python",
   "name": "python",
   "nbconvert_exporter": "python",
   "pygments_lexer": "ipython3",
   "version": "3.11.0"
  }
 },
 "nbformat": 4,
 "nbformat_minor": 2
}
