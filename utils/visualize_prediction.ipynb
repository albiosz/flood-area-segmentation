{
 "cells": [
  {
   "cell_type": "markdown",
   "metadata": {},
   "source": [
    "# Visualisierung von Vorhersagen mit Bildern aus Österreich"
   ]
  },
  {
   "cell_type": "code",
   "execution_count": 1,
   "metadata": {},
   "outputs": [],
   "source": [
    "import numpy as np\n",
    "import matplotlib.pyplot as plt\n",
    "\n",
    "def visualize_prediction(image_resized, pred_binary, img_file=None, alpha=0.5):\n",
    "    \"\"\"\n",
    "    Show original image, predicted mask, and overlay with red-highlighted mask area.\n",
    "    \n",
    "    Parameters:\n",
    "        image_resized (np.array): Original image (resized to model input size).\n",
    "        pred_binary (np.array): Binary predicted mask (same size as image).\n",
    "        img_file (str): Optional filename to use in title.\n",
    "        alpha (float): Transparency for mask overlay.\n",
    "    \"\"\"\n",
    "    # Coloring the predicted mask in red\n",
    "    overlay = image_resized.copy()\n",
    "    overlay[pred_binary == 1] = [255, 0, 0]  # Red color for predicted area\n",
    "\n",
    "    # Create blended overlay\n",
    "    blended = (1 - alpha) * image_resized + alpha * overlay\n",
    "    blended = blended.astype(np.uint8)\n",
    "\n",
    "    # Plot\n",
    "    plt.figure(figsize=(12, 4))\n",
    "    if img_file:\n",
    "        plt.suptitle(f\"Prediction: {img_file}\")\n",
    "    plt.subplot(1, 3, 1)\n",
    "    plt.title(\"Original Image\")\n",
    "    plt.imshow(image_resized)\n",
    "    plt.axis('off')\n",
    "\n",
    "    plt.subplot(1, 3, 2)\n",
    "    plt.title(\"Predicted Mask\")\n",
    "    plt.imshow(pred_binary, cmap='gray')\n",
    "    plt.axis('off')\n",
    "\n",
    "    plt.subplot(1, 3, 3)\n",
    "    plt.title(\"Overlay\")\n",
    "    plt.imshow(blended)\n",
    "    plt.axis('off')\n",
    "\n",
    "    plt.tight_layout()\n",
    "    plt.show()\n"
   ]
  }
 ],
 "metadata": {
  "kernelspec": {
   "display_name": ".venv",
   "language": "python",
   "name": "python3"
  },
  "language_info": {
   "codemirror_mode": {
    "name": "ipython",
    "version": 3
   },
   "file_extension": ".py",
   "mimetype": "text/x-python",
   "name": "python",
   "nbconvert_exporter": "python",
   "pygments_lexer": "ipython3",
   "version": "3.11.0rc1"
  }
 },
 "nbformat": 4,
 "nbformat_minor": 2
}
