{
 "cells": [
  {
   "cell_type": "markdown",
   "metadata": {},
   "source": [
    "# Intersection over Union (IoU)"
   ]
  },
  {
   "cell_type": "markdown",
   "metadata": {},
   "source": [
    "Genaugikeit (Accuracy) ist nicht die beste Metrik, um die Ergebnisse zu evaluiren. Aus diesem Grund wurde \"Intersection over Union\" (IoU) umgesetzt, um die entstandenen Modelle realistisch miteinander vergleichen zu können.\n",
    "\n",
    "<img src=\"https://framerusercontent.com/images/Dzpkrkzlq8W4pwHnfcoukNZNM.webp\" alt=\"drawing\" width=\"400\"/>"
   ]
  },
  {
   "cell_type": "markdown",
   "metadata": {},
   "source": [
    "IoU (auch Jaccard Index) setzt sich daher zusammen aus:\n",
    "\n",
    "$$\n",
    "\\text{IoU} = \\frac{|A \\cap B|}{|A \\cup B|}\n",
    "$$\n",
    "Dies ist gleichzusetzen mit:\n",
    "\n",
    "$$\n",
    "\\text{IoU} = \\frac{TP}{TP + FP + FN}\n",
    "$$"
   ]
  },
  {
   "cell_type": "code",
   "execution_count": 10,
   "metadata": {},
   "outputs": [],
   "source": [
    "import tensorflow as tf\n",
    "from tensorflow.keras import backend as K\n",
    "# import tensorflow.keras as keras\n",
    "import keras\n",
    "\n",
    "@keras.saving.register_keras_serializable()\n",
    "def iou_metric(y_true, y_pred, smooth=1e-6):\n",
    "    y_pred = tf.cast(y_pred > 0.5, tf.float32)  # Thresholding predicted mask\n",
    "    y_true = tf.cast(y_true, tf.float32)\n",
    "\n",
    "    intersection = K.sum(y_true * y_pred)\n",
    "    union = K.sum(y_true) + K.sum(y_pred) - intersection\n",
    "    return (intersection + smooth) / (union + smooth)"
   ]
  }
 ],
 "metadata": {
  "kernelspec": {
   "display_name": ".venv",
   "language": "python",
   "name": "python3"
  },
  "language_info": {
   "codemirror_mode": {
    "name": "ipython",
    "version": 3
   },
   "file_extension": ".py",
   "mimetype": "text/x-python",
   "name": "python",
   "nbconvert_exporter": "python",
   "pygments_lexer": "ipython3",
   "version": "3.11.0"
  }
 },
 "nbformat": 4,
 "nbformat_minor": 2
}
