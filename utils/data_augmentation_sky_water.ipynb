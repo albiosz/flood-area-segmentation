{
 "cells": [
  {
   "cell_type": "markdown",
   "metadata": {},
   "source": [
    "# Data augmentation\n"
   ]
  },
  {
   "cell_type": "markdown",
   "metadata": {},
   "source": [
    "Die Daten wurde erweitert durch folgende techniken:\n",
    "- flipping\n",
    "- cropping\n",
    "- rotation\n",
    "- brightness adjustment\n",
    "\n",
    "\n",
    "Ich habe dafür die [Albumentations](https://albumentations.ai/docs/) Bibliothek verwendet.\n",
    "\n",
    "Ich hab mich gegen \"coarse dropout\" entschieden, weil es unrealistsch ist, denke ich. Man bekommt nicht ein Foto, an dem ein Teil fehlt. Aber vielleicht, ist es Sinnvoll.\n"
   ]
  },
  {
   "cell_type": "markdown",
   "metadata": {},
   "source": [
    "## Für die Unterscheidung von Himmel und Wasser zusätzlich noch ergänzt:\n",
    "\n",
    "Also um mit überbelichteten und kontrastarmen Bildern besser umzugehen:\n",
    "- `gamma_aug`: Gamma-Korrektur RandomGamma(gamma_limit=(80, 120))\n",
    "\n",
    "RandomGamma verstärkt und verändert Kontrast und Helligkeit auf nicht-lineare Weise.\n"
   ]
  },
  {
   "cell_type": "code",
   "execution_count": null,
   "metadata": {},
   "outputs": [
    {
     "ename": "NameError",
     "evalue": "name 'images' is not defined",
     "output_type": "error",
     "traceback": [
      "\u001b[31m---------------------------------------------------------------------------\u001b[39m",
      "\u001b[31mNameError\u001b[39m                                 Traceback (most recent call last)",
      "\u001b[36mCell\u001b[39m\u001b[36m \u001b[39m\u001b[32mIn[1]\u001b[39m\u001b[32m, line 80\u001b[39m\n\u001b[32m     75\u001b[39m   augmented_masks = np.array(augmented_masks)\n\u001b[32m     77\u001b[39m   \u001b[38;5;28;01mreturn\u001b[39;00m (augmented_images, augmented_masks)\n\u001b[32m---> \u001b[39m\u001b[32m80\u001b[39m \u001b[38;5;28;01mif\u001b[39;00m \u001b[43mimages\u001b[49m \u001b[38;5;129;01mis\u001b[39;00m \u001b[38;5;129;01mnot\u001b[39;00m \u001b[38;5;28;01mNone\u001b[39;00m \u001b[38;5;129;01mand\u001b[39;00m masks \u001b[38;5;129;01mis\u001b[39;00m \u001b[38;5;129;01mnot\u001b[39;00m \u001b[38;5;28;01mNone\u001b[39;00m:\n\u001b[32m     81\u001b[39m   augmented_images, augmented_masks = augment(images, masks)\n",
      "\u001b[31mNameError\u001b[39m: name 'images' is not defined"
     ]
    }
   ],
   "source": [
    "import albumentations as A\n",
    "from albumentations.augmentations.pixel import functional as F\n",
    "import numpy as np\n",
    "\n",
    "def augment(images, masks):\n",
    "  augmented_images = []\n",
    "  augmented_masks = []\n",
    "\n",
    "  for img, msk in zip(images, masks):\n",
    "    augmented_images.append(img)\n",
    "    augmented_masks.append(msk)\n",
    "    \n",
    "    grid_distortion = A.GridDistortion(p=1.0, distort_limit=0.6)(image=img, mask=msk)\n",
    "    augmented_images.append(grid_distortion['image'])\n",
    "    augmented_masks.append(grid_distortion['mask'])\n",
    "    \n",
    "    optical_distortion = A.OpticalDistortion(p=1.0, distort_limit=1, mode='camera')(image=img, mask=msk)\n",
    "    augmented_images.append(optical_distortion['image'])\n",
    "    augmented_masks.append(optical_distortion['mask'])\n",
    "    \n",
    "    elastic_transform = A.ElasticTransform(p=1.0, alpha=120, sigma=120)(image=img, mask=msk)\n",
    "    augmented_images.append(elastic_transform['image'])\n",
    "    augmented_masks.append(elastic_transform['mask'])\n",
    "\n",
    "    flipped = A.HorizontalFlip(p=1.0)(image=img, mask=msk)\n",
    "    augmented_images.append(flipped['image'])\n",
    "    augmented_masks.append(flipped['mask'])\n",
    "\n",
    "    cropped = A.RandomResizedCrop(\n",
    "      size=(224, 224)\n",
    "    )(image=img, mask=msk)\n",
    "    augmented_images.append(cropped['image'])\n",
    "    augmented_masks.append(cropped['mask'])\n",
    "\n",
    "  #  randomly_erased = A.CoarseDropout(\n",
    "  #      hole_height_range=(0.3, 0.5),\n",
    "  #      hole_width_range=(0.3, 0.5),\n",
    "  #      fill_mask=0,\n",
    "  #      p=1.0\n",
    "  #  )(image=img, mask=msk)\n",
    "  #  augmented_images.append(randomly_erased['image'])\n",
    "  #  augmented_masks.append(randomly_erased['mask'])\n",
    "\n",
    "    rotated = A.RandomRotate90()(image=img, mask=msk)\n",
    "    augmented_images.append(rotated['image'])\n",
    "    augmented_masks.append(rotated['mask'])\n",
    "\n",
    "    brightness = A.RandomBrightnessContrast(p=1.0)(image=img, mask=msk)\n",
    "    augmented_images.append(brightness['image'])\n",
    "    augmented_masks.append(brightness['mask'])\n",
    "    \n",
    "    gaussian_blur = A.GaussianBlur(p=1.0, sigma_limit=(1, 1.5))(image=img, mask=msk)\n",
    "    augmented_images.append(gaussian_blur['image'])\n",
    "    augmented_masks.append(gaussian_blur['mask'])\n",
    "\n",
    "    # new augmentation:\n",
    "    gamma_aug = A.RandomGamma(gamma_limit=(80, 120), p=1.0)(image=img, mask=msk)\n",
    "    augmented_images.append(gamma_aug['image'])\n",
    "    augmented_masks.append(gamma_aug['mask'])\n",
    "    \n",
    "  # Convert lists to NumPy arrays\n",
    "  augmented_images = np.array(augmented_images)\n",
    "  augmented_masks = np.array(augmented_masks)\n",
    "  \n",
    "  return (augmented_images, augmented_masks)\n",
    "\n",
    "\n",
    "if images is not None and masks is not None:\n",
    "  augmented_images, augmented_masks = augment(images, masks)\n",
    "  "
   ]
  }
 ],
 "metadata": {
  "kernelspec": {
   "display_name": ".venv",
   "language": "python",
   "name": "python3"
  },
  "language_info": {
   "codemirror_mode": {
    "name": "ipython",
    "version": 3
   },
   "file_extension": ".py",
   "mimetype": "text/x-python",
   "name": "python",
   "nbconvert_exporter": "python",
   "pygments_lexer": "ipython3",
   "version": "3.11.0"
  }
 },
 "nbformat": 4,
 "nbformat_minor": 2
}
