{
 "cells": [
  {
   "cell_type": "markdown",
   "metadata": {},
   "source": [
    "# Accuracy/Rand index\n",
    "\n",
    "https://medium.com/@nghihuynh_37300/understanding-evaluation-metrics-in-medical-image-segmentation-d289a373a3f\n",
    "\n",
    "Accuracy (auch Rand-Index) ist der Anteil der korrekt vorhergesagten Werte (positiv und negativ) an allen Vorhersagen:\n",
    "$$\n",
    "\\text{Accuracy} = \\frac{TP + TN}{TP + TN + FN + FP}\n",
    "$$"
   ]
  },
  {
   "cell_type": "code",
   "execution_count": null,
   "metadata": {},
   "outputs": [],
   "source": [
    "#def accuracy_score_(groundtruth_mask, pred_mask):\n",
    " #   correct_pixels = np.sum(groundtruth_mask == pred_mask)\n",
    " #   total_pixels = groundtruth_mask.size\n",
    " #   accuracy = correct_pixels / total_pixels\n",
    " #   return round(accuracy, 3)"
   ]
  }
 ],
 "metadata": {
  "kernelspec": {
   "display_name": ".venv",
   "language": "python",
   "name": "python3"
  },
  "language_info": {
   "codemirror_mode": {
    "name": "ipython",
    "version": 3
   },
   "file_extension": ".py",
   "mimetype": "text/x-python",
   "name": "python",
   "nbconvert_exporter": "python",
   "pygments_lexer": "ipython3",
   "version": "3.11.0rc1"
  }
 },
 "nbformat": 4,
 "nbformat_minor": 2
}
