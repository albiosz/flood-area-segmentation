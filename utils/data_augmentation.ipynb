{
 "cells": [
  {
   "cell_type": "markdown",
   "metadata": {},
   "source": [
    "# Data augmentation\n"
   ]
  },
  {
   "cell_type": "markdown",
   "metadata": {},
   "source": [
    "Die Daten wurde erweitert durch folgende techniken:\n",
    "- flipping\n",
    "- cropping\n",
    "- rotation\n",
    "- brightness adjustment\n",
    "\n",
    "\n",
    "Ich habe dafür die [Albumentations](https://albumentations.ai/docs/) Bibliothek verwendet.\n",
    "\n",
    "Ich hab mich gegen \"coarse dropout\" entschieden, weil es unrealistsch ist, denke ich. Man bekommt nicht ein Foto, an dem ein Teil fehlt. Aber vielleicht, ist es Sinnvoll.\n"
   ]
  },
  {
   "cell_type": "code",
   "execution_count": null,
   "metadata": {},
   "outputs": [],
   "source": [
    "import albumentations as A\n",
    "from albumentations.augmentations.pixel import functional as F\n",
    "import numpy as np\n",
    "\n",
    "def augment(images, masks):\n",
    "  augmented_images = []\n",
    "  augmented_masks = []\n",
    "\n",
    "  for img, msk in zip(images, masks):\n",
    "    augmented_images.append(img)\n",
    "    augmented_masks.append(msk)\n",
    "    \n",
    "    grid_distortion = A.GridDistortion(p=1.0, distort_limit=0.6)(image=img, mask=msk)\n",
    "    augmented_images.append(grid_distortion['image'])\n",
    "    augmented_masks.append(grid_distortion['mask'])\n",
    "    \n",
    "    optical_distortion = A.OpticalDistortion(p=1.0, distort_limit=1, mode='camera')(image=img, mask=msk)\n",
    "    augmented_images.append(optical_distortion['image'])\n",
    "    augmented_masks.append(optical_distortion['mask'])\n",
    "    \n",
    "    elastic_transform = A.ElasticTransform(p=1.0, alpha=120, sigma=120)(image=img, mask=msk)\n",
    "    augmented_images.append(elastic_transform['image'])\n",
    "    augmented_masks.append(elastic_transform['mask'])\n",
    "\n",
    "    flipped = A.HorizontalFlip(p=1.0)(image=img, mask=msk)\n",
    "    augmented_images.append(flipped['image'])\n",
    "    augmented_masks.append(flipped['mask'])\n",
    "\n",
    "    cropped = A.RandomResizedCrop(\n",
    "      size=(224, 224)\n",
    "    )(image=img, mask=msk)\n",
    "    augmented_images.append(cropped['image'])\n",
    "    augmented_masks.append(cropped['mask'])\n",
    "\n",
    "  #  randomly_erased = A.CoarseDropout(\n",
    "  #      hole_height_range=(0.3, 0.5),\n",
    "  #      hole_width_range=(0.3, 0.5),\n",
    "  #      fill_mask=0,\n",
    "  #      p=1.0\n",
    "  #  )(image=img, mask=msk)\n",
    "  #  augmented_images.append(randomly_erased['image'])\n",
    "  #  augmented_masks.append(randomly_erased['mask'])\n",
    "\n",
    "    rotated = A.RandomRotate90()(image=img, mask=msk)\n",
    "    augmented_images.append(rotated['image'])\n",
    "    augmented_masks.append(rotated['mask'])\n",
    "\n",
    "    brightness = A.RandomBrightnessContrast(p=1.0)(image=img, mask=msk)\n",
    "    augmented_images.append(brightness['image'])\n",
    "    augmented_masks.append(brightness['mask'])\n",
    "    \n",
    "    gaussian_blur = A.GaussianBlur(p=1.0, sigma_limit=(1, 1.5))(image=img, mask=msk)\n",
    "    augmented_images.append(gaussian_blur['image'])\n",
    "    augmented_masks.append(gaussian_blur['mask'])\n",
    "\n",
    "    \n",
    "  # Convert lists to NumPy arrays\n",
    "  augmented_images = np.array(augmented_images)\n",
    "  augmented_masks = np.array(augmented_masks)\n",
    "  \n",
    "  return (augmented_images, augmented_masks)\n",
    "\n",
    "\n",
    "if images is not None and masks is not None:\n",
    "  augmented_images, augmented_masks = augment(images, masks)\n",
    "  "
   ]
  }
 ],
 "metadata": {
  "kernelspec": {
   "display_name": ".venv",
   "language": "python",
   "name": "python3"
  },
  "language_info": {
   "codemirror_mode": {
    "name": "ipython",
    "version": 3
   },
   "file_extension": ".py",
   "mimetype": "text/x-python",
   "name": "python",
   "nbconvert_exporter": "python",
   "pygments_lexer": "ipython3",
   "version": "3.11.0"
  }
 },
 "nbformat": 4,
 "nbformat_minor": 2
}
