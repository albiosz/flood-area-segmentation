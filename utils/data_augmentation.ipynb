{
 "cells": [
  {
   "cell_type": "markdown",
   "metadata": {},
   "source": [
    "# Data augmentation\n"
   ]
  },
  {
   "cell_type": "markdown",
   "metadata": {},
   "source": [
    "Die Daten wurde erweitert durch folgende techniken:\n",
    "- flipping\n",
    "- cropping\n",
    "- rotation\n",
    "- brightness adjustment\n",
    "\n",
    "\n",
    "Ich habe dafür die [Albumentations](https://albumentations.ai/docs/) Bibliothek verwendet.\n",
    "\n",
    "Ich hab mich gegen \"coarse dropout\" entschieden, weil es unrealistsch ist, denke ich. Man bekommt nicht ein Foto, an dem ein Teil fehlt. Aber vielleicht, ist es Sinnvoll.\n"
   ]
  },
  {
   "cell_type": "code",
   "execution_count": 1,
   "metadata": {},
   "outputs": [
    {
     "ename": "NameError",
     "evalue": "name 'images' is not defined",
     "output_type": "error",
     "traceback": [
      "\u001b[31m---------------------------------------------------------------------------\u001b[39m",
      "\u001b[31mNameError\u001b[39m                                 Traceback (most recent call last)",
      "\u001b[36mCell\u001b[39m\u001b[36m \u001b[39m\u001b[32mIn[1]\u001b[39m\u001b[32m, line 7\u001b[39m\n\u001b[32m      4\u001b[39m augmented_images = []\n\u001b[32m      5\u001b[39m augmented_masks = []\n\u001b[32m----> \u001b[39m\u001b[32m7\u001b[39m \u001b[38;5;28;01mfor\u001b[39;00m img, msk \u001b[38;5;129;01min\u001b[39;00m \u001b[38;5;28mzip\u001b[39m(\u001b[43mimages\u001b[49m, masks):\n\u001b[32m      8\u001b[39m   augmented_images.append(img)\n\u001b[32m      9\u001b[39m   augmented_masks.append(msk)\n",
      "\u001b[31mNameError\u001b[39m: name 'images' is not defined"
     ]
    }
   ],
   "source": [
    "import albumentations as A\n",
    "import numpy as np\n",
    "\n",
    "\n",
    "def augment(images, masks):\n",
    "  augmented_images = []\n",
    "  augmented_masks = []\n",
    "\n",
    "  for img, msk in zip(images, masks):\n",
    "    augmented_images.append(img)\n",
    "    augmented_masks.append(msk)\n",
    "\n",
    "    flipped = A.HorizontalFlip(p=1.0)(image=img, mask=msk)\n",
    "    augmented_images.append(flipped['image'])\n",
    "    augmented_masks.append(flipped['mask'])\n",
    "\n",
    "    cropped = A.RandomResizedCrop(\n",
    "      size=(224, 224)\n",
    "    )(image=img, mask=msk)\n",
    "    augmented_images.append(cropped['image'])\n",
    "    augmented_masks.append(cropped['mask'])\n",
    "\n",
    "  #  randomly_erased = A.CoarseDropout(\n",
    "  #      hole_height_range=(0.3, 0.5),\n",
    "  #      hole_width_range=(0.3, 0.5),\n",
    "  #      fill_mask=0,\n",
    "  #      p=1.0\n",
    "  #  )(image=img, mask=msk)\n",
    "  #  augmented_images.append(randomly_erased['image'])\n",
    "  #  augmented_masks.append(randomly_erased['mask'])\n",
    "\n",
    "    rotated = A.RandomRotate90()(image=img, mask=msk)\n",
    "    augmented_images.append(rotated['image'])\n",
    "    augmented_masks.append(rotated['mask'])\n",
    "\n",
    "    brightness = A.RandomBrightnessContrast(p=1.0)(image=img, mask=msk)\n",
    "    augmented_images.append(brightness['image'])\n",
    "    augmented_masks.append(brightness['mask'])\n",
    "\n",
    "  # Convert lists to NumPy arrays\n",
    "  augmented_images = np.array(augmented_images)\n",
    "  augmented_masks = np.array(augmented_masks)\n",
    "  \n",
    "  return (augmented_images, augmented_masks)"
   ]
  }
 ],
 "metadata": {
  "kernelspec": {
   "display_name": ".venv",
   "language": "python",
   "name": "python3"
  },
  "language_info": {
   "codemirror_mode": {
    "name": "ipython",
    "version": 3
   },
   "file_extension": ".py",
   "mimetype": "text/x-python",
   "name": "python",
   "nbconvert_exporter": "python",
   "pygments_lexer": "ipython3",
   "version": "3.11.0"
  }
 },
 "nbformat": 4,
 "nbformat_minor": 2
}
