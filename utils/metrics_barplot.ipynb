{
 "cells": [
  {
   "cell_type": "markdown",
   "metadata": {},
   "source": []
  },
  {
   "cell_type": "code",
   "execution_count": null,
   "metadata": {},
   "outputs": [],
   "source": [
    "import pandas as pd\n",
    "from sklearn.metrics import accuracy_score\n",
    "\n",
    "def metrics_summary(history, y_true_flat, y_pred_flat, precision, recall, f1, iou):\n",
    "\n",
    "  return pd.DataFrame({\n",
    "      \"Set\": [\"Train\", \"Val\", \"Test\"],\n",
    "      \"Accuracy\": [\n",
    "          history.history['accuracy'][-1], \n",
    "          history.history['val_accuracy'][-1], \n",
    "          accuracy_score(y_true_flat, y_pred_flat)\n",
    "      ],\n",
    "      \"Precision\": [\n",
    "          history.history['precision_metric'][-1], \n",
    "          history.history['val_precision_metric'][-1], \n",
    "          precision\n",
    "      ],\n",
    "      \"Recall\": [\n",
    "          history.history['recall_metric'][-1], \n",
    "          history.history['val_recall_metric'][-1], \n",
    "          recall\n",
    "      ],\n",
    "      \"F1 Score\": [\n",
    "          history.history['f1_metric'][-1], \n",
    "          history.history['val_f1_metric'][-1], \n",
    "          f1\n",
    "      ],\n",
    "      \"IoU\": [\n",
    "          history.history['iou_metric'][-1], \n",
    "          history.history['val_iou_metric'][-1], \n",
    "          iou\n",
    "      ]\n",
    "  })"
   ]
  },
  {
   "cell_type": "code",
   "execution_count": 1,
   "metadata": {},
   "outputs": [],
   "source": [
    "import matplotlib.pyplot as plt\n",
    "from datetime import datetime\n",
    "\n",
    "def draw_metrics_barplot(metrics_summary, save_title=\"\"):\n",
    "\n",
    "  metrics_summary_melted = metrics_summary.melt(id_vars=\"Set\", var_name=\"Metric\", value_name=\"Score\")\n",
    "\n",
    "  plt.figure(figsize=(10, 6))\n",
    "  import seaborn as sns\n",
    "  sns.barplot(data=metrics_summary_melted, x=\"Metric\", y=\"Score\", hue=\"Set\")\n",
    "  plt.ylim(0.0, 1.0)\n",
    "  plt.title(\"Vergleich der Metriken: Train vs. Validation vs. Test\")\n",
    "  plt.grid(True, linestyle='--', linewidth=0.5, alpha=0.7)\n",
    "  plt.tight_layout()\n",
    "  plt.savefig(f'./img/metrics_bar_plots/{save_title}_{datetime.now().isoformat()}.png', dpi=300, bbox_inches='tight')\n",
    "  plt.show()"
   ]
  }
 ],
 "metadata": {
  "kernelspec": {
   "display_name": ".venv",
   "language": "python",
   "name": "python3"
  },
  "language_info": {
   "codemirror_mode": {
    "name": "ipython",
    "version": 3
   },
   "file_extension": ".py",
   "mimetype": "text/x-python",
   "name": "python",
   "nbconvert_exporter": "python",
   "pygments_lexer": "ipython3",
   "version": "3.11.0"
  }
 },
 "nbformat": 4,
 "nbformat_minor": 2
}
